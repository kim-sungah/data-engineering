{
 "cells": [
  {
   "cell_type": "markdown",
   "id": "a591cefa-a78e-4252-ac9e-1026b954e8e9",
   "metadata": {},
   "source": [
    "1. 태어난 달(month)에 해당하는 이름의 첫번째 글자를 구하기 위한 리스트 생성하기."
   ]
  },
  {
   "cell_type": "code",
   "execution_count": 11,
   "id": "702f19b6-690a-4e4a-92db-69a0772ce78a",
   "metadata": {},
   "outputs": [],
   "source": [
    "month = ['쌍', '쇠', '복', '돌', '팽', '육', '쌍', '개', '칠', '갑', '삼', '방']"
   ]
  },
  {
   "cell_type": "markdown",
   "id": "266b0f97-59de-4c6a-87f4-9db47a665af2",
   "metadata": {},
   "source": [
    "2. 태어난 날짜(day)에 해당하는 이름의 두번째 글자를 구하기 위한 리스트 생성하기."
   ]
  },
  {
   "cell_type": "code",
   "execution_count": 12,
   "id": "6385d5c9-8f7d-4d7a-bb65-bb90823861ed",
   "metadata": {},
   "outputs": [],
   "source": [
    "day = ['봉', '구', '욕', '포', '똥', '삼', '식', '석', '놈', '님', '년', '돌', '단', '득', '방', '질', '장', '걸', '래', '룡', '동', '순', '자', '박', '창', '언', '것', '포', '만', '단', '국']"
   ]
  },
  {
   "cell_type": "markdown",
   "id": "18dabbe0-a2df-4407-8d83-76dfa00c7b64",
   "metadata": {},
   "source": [
    "3. 나의 조선시대 이름을 문자열로 반환하는 함수 get_my_chosun_name() 작성하기."
   ]
  },
  {
   "cell_type": "code",
   "execution_count": 13,
   "id": "8bf8f66f-7d6e-4264-930b-aa2551f58c8b",
   "metadata": {},
   "outputs": [],
   "source": [
    "def get_my_chosun_name(family_name, n1, n2):\n",
    "    \n",
    "    n1 = month[n1-1]\n",
    "    n2 = day[n2-1]\n",
    "    \n",
    "    return family_name+n1+n2"
   ]
  },
  {
   "cell_type": "code",
   "execution_count": 14,
   "id": "627cc981-399a-4e2b-9f13-bd3c6e2410aa",
   "metadata": {},
   "outputs": [
    {
     "name": "stdout",
     "output_type": "stream",
     "text": [
      "당신의 조선시대 이름은 김개순 입니다.\n"
     ]
    }
   ],
   "source": [
    "print('당신의 조선시대 이름은', get_my_chosun_name('김',8,22), '입니다.')"
   ]
  },
  {
   "cell_type": "code",
   "execution_count": null,
   "id": "85f3fbed-362a-45ed-a5d5-02fd02f21e2a",
   "metadata": {},
   "outputs": [],
   "source": []
  }
 ],
 "metadata": {
  "kernelspec": {
   "display_name": "Python 3 (ipykernel)",
   "language": "python",
   "name": "python3"
  },
  "language_info": {
   "codemirror_mode": {
    "name": "ipython",
    "version": 3
   },
   "file_extension": ".py",
   "mimetype": "text/x-python",
   "name": "python",
   "nbconvert_exporter": "python",
   "pygments_lexer": "ipython3",
   "version": "3.11.7"
  }
 },
 "nbformat": 4,
 "nbformat_minor": 5
}
