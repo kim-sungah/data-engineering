{
 "cells": [
  {
   "cell_type": "markdown",
   "id": "fc5da22d-cc97-4656-918c-824109c7d9a7",
   "metadata": {},
   "source": [
    "### 2: 성적부"
   ]
  },
  {
   "cell_type": "markdown",
   "id": "890537d0-2983-435a-9cc0-63050aec2b00",
   "metadata": {},
   "source": [
    "1. subjects 목록 만들고, 목록에 현재 수강 중인 수업 추가하기 (physics, calculus, poetry, history)."
   ]
  },
  {
   "cell_type": "code",
   "execution_count": 2,
   "id": "f3573e87-1b63-472a-8b1b-5a9d4aae08fe",
   "metadata": {},
   "outputs": [],
   "source": [
    "subjects = []\n",
    "\n",
    "subjects.append('physics')\n",
    "subjects.append('calculus')\n",
    "subjects.append('poetry')\n",
    "subjects.append('history')"
   ]
  },
  {
   "cell_type": "code",
   "execution_count": 3,
   "id": "1d7df9ee-992a-4add-a23c-8115387fa283",
   "metadata": {},
   "outputs": [
    {
     "data": {
      "text/plain": [
       "['physics', 'calculus', 'poetry', 'history']"
      ]
     },
     "execution_count": 3,
     "metadata": {},
     "output_type": "execute_result"
    }
   ],
   "source": [
    "subjects"
   ]
  },
  {
   "cell_type": "markdown",
   "id": "cfd93576-753c-47ec-846d-377ddfc8f3d4",
   "metadata": {},
   "source": [
    "2. grades 목록 만들고, 점수 입력하기 (98, 97, 85, 88)."
   ]
  },
  {
   "cell_type": "code",
   "execution_count": 4,
   "id": "d1dba6bf-7701-446b-ba31-31e619ff4829",
   "metadata": {},
   "outputs": [],
   "source": [
    "grades = []\n",
    "grades.append(98)\n",
    "grades.append(97)\n",
    "grades.append(85)\n",
    "grades.append(88)"
   ]
  },
  {
   "cell_type": "code",
   "execution_count": 5,
   "id": "8a32a072-00b7-4460-81d7-20ceccc9a8bd",
   "metadata": {},
   "outputs": [
    {
     "data": {
      "text/plain": [
       "[98, 97, 85, 88]"
      ]
     },
     "execution_count": 5,
     "metadata": {},
     "output_type": "execute_result"
    }
   ],
   "source": [
    "grades"
   ]
  },
  {
   "cell_type": "markdown",
   "id": "df1a8e7d-34ed-4e5c-b474-96e6e70bc855",
   "metadata": {},
   "source": [
    "3. subjects와 grades를 결합한 2차원 목록 만들고, gradebook 변수에 할당하기."
   ]
  },
  {
   "cell_type": "code",
   "execution_count": 9,
   "id": "94383147-c368-4987-bb42-aecc485ce828",
   "metadata": {},
   "outputs": [],
   "source": [
    "gradebook = []\n",
    "\n",
    "dictionary = {string:grades[i] for i,string in enumerate(subjects)}"
   ]
  },
  {
   "cell_type": "code",
   "execution_count": 10,
   "id": "213a2a63-57bc-4bde-ae4a-499b04a74005",
   "metadata": {},
   "outputs": [
    {
     "data": {
      "text/plain": [
       "{'physics': 98, 'calculus': 97, 'poetry': 85, 'history': 88}"
      ]
     },
     "execution_count": 10,
     "metadata": {},
     "output_type": "execute_result"
    }
   ],
   "source": [
    "dictionary"
   ]
  },
  {
   "cell_type": "code",
   "execution_count": 11,
   "id": "35cd3b88-5b16-4bd9-89c6-727b687ef74e",
   "metadata": {},
   "outputs": [],
   "source": [
    "gradebook = []\n",
    "for key in dictionary:\n",
    "    gradebook.append([key, dictionary[key]])"
   ]
  },
  {
   "cell_type": "markdown",
   "id": "4e348cff-2fd0-4392-84a1-c0f4265f73dc",
   "metadata": {},
   "source": [
    "4. gradebook 출력하기."
   ]
  },
  {
   "cell_type": "code",
   "execution_count": 12,
   "id": "ac1eb6f5-c257-4918-91cc-dadff788e83b",
   "metadata": {},
   "outputs": [
    {
     "data": {
      "text/plain": [
       "[['physics', 98], ['calculus', 97], ['poetry', 85], ['history', 88]]"
      ]
     },
     "execution_count": 12,
     "metadata": {},
     "output_type": "execute_result"
    }
   ],
   "source": [
    "gradebook"
   ]
  },
  {
   "cell_type": "markdown",
   "id": "0102d938-e07f-4a57-a3ee-9d3921248894",
   "metadata": {},
   "source": [
    "5. ['computerscience', 100]을 gradebook에 추가하기."
   ]
  },
  {
   "cell_type": "code",
   "execution_count": 13,
   "id": "6b470adf-1179-4ed4-83b9-bdcdcce7f002",
   "metadata": {},
   "outputs": [],
   "source": [
    "gradebook.append(['computerscience', 100])"
   ]
  },
  {
   "cell_type": "markdown",
   "id": "b563e9e2-f388-4b10-8de1-f57916ccb068",
   "metadata": {},
   "source": [
    "6. ['visual arts', 93]을 gradebook에 추가하기."
   ]
  },
  {
   "cell_type": "code",
   "execution_count": 14,
   "id": "b1d6a36b-fef8-4d26-a866-212f1a1f8903",
   "metadata": {},
   "outputs": [],
   "source": [
    "gradebook.append(['visual arts', 93])"
   ]
  },
  {
   "cell_type": "code",
   "execution_count": 15,
   "id": "bc031698-a89c-4d09-801e-0b9f42cc39be",
   "metadata": {},
   "outputs": [
    {
     "data": {
      "text/plain": [
       "[['physics', 98],\n",
       " ['calculus', 97],\n",
       " ['poetry', 85],\n",
       " ['history', 88],\n",
       " ['computerscience', 100],\n",
       " ['visual arts', 93]]"
      ]
     },
     "execution_count": 15,
     "metadata": {},
     "output_type": "execute_result"
    }
   ],
   "source": [
    "gradebook"
   ]
  },
  {
   "cell_type": "markdown",
   "id": "133612da-b8bc-4f2a-89ac-616438b9307b",
   "metadata": {},
   "source": [
    "7. visual arts 성적을 93 -> 98으로 수정하기."
   ]
  },
  {
   "cell_type": "code",
   "execution_count": 16,
   "id": "4226c3e1-178e-4888-be52-6eb24db47cc6",
   "metadata": {},
   "outputs": [],
   "source": [
    "gradebook[5][1] = 98"
   ]
  },
  {
   "cell_type": "code",
   "execution_count": 17,
   "id": "99c8b42d-62a9-4852-a7ee-fcbdc27d90cf",
   "metadata": {},
   "outputs": [
    {
     "data": {
      "text/plain": [
       "['visual arts', 98]"
      ]
     },
     "execution_count": 17,
     "metadata": {},
     "output_type": "execute_result"
    }
   ],
   "source": [
    "gradebook[5]"
   ]
  },
  {
   "cell_type": "markdown",
   "id": "2acc244c-f72c-4f4f-9d37-63fac48905fd",
   "metadata": {},
   "source": [
    "8. poetry 점수 삭제하기."
   ]
  },
  {
   "cell_type": "code",
   "execution_count": 19,
   "id": "e8c4618d-5567-4a6e-a5cd-e795f1113f23",
   "metadata": {},
   "outputs": [],
   "source": [
    "gradebook[2].remove(85)"
   ]
  },
  {
   "cell_type": "code",
   "execution_count": 20,
   "id": "3412cb08-2545-4ff0-b461-c210e15f75d0",
   "metadata": {},
   "outputs": [
    {
     "data": {
      "text/plain": [
       "['poetry']"
      ]
     },
     "execution_count": 20,
     "metadata": {},
     "output_type": "execute_result"
    }
   ],
   "source": [
    "gradebook[2]"
   ]
  },
  {
   "cell_type": "markdown",
   "id": "496bc2c2-687b-4727-925d-0b7821b9018f",
   "metadata": {},
   "source": [
    "9. poetry에 'Pass' 추가하기."
   ]
  },
  {
   "cell_type": "code",
   "execution_count": 21,
   "id": "c33b328a-e326-4629-b8c1-784f57cedc28",
   "metadata": {},
   "outputs": [],
   "source": [
    "gradebook[2].append('Pass')"
   ]
  },
  {
   "cell_type": "code",
   "execution_count": 22,
   "id": "151c0378-dc78-491b-8791-f85774539b78",
   "metadata": {},
   "outputs": [
    {
     "data": {
      "text/plain": [
       "[['physics', 98],\n",
       " ['calculus', 97],\n",
       " ['poetry', 'Pass'],\n",
       " ['history', 88],\n",
       " ['computerscience', 100],\n",
       " ['visual arts', 98]]"
      ]
     },
     "execution_count": 22,
     "metadata": {},
     "output_type": "execute_result"
    }
   ],
   "source": [
    "gradebook"
   ]
  },
  {
   "cell_type": "markdown",
   "id": "2029a60e-1eba-4eaa-a3a2-3ff104aadc9a",
   "metadata": {},
   "source": [
    "10. 지난 학기 성적 last_semester_gradebook 생성, last_semester_gradebook랑 gradebook을 결합해서 full_gradebook 생성하고 출력하기."
   ]
  },
  {
   "cell_type": "code",
   "execution_count": 24,
   "id": "09eef5de-a3d7-4cbd-824c-c71a3cb49277",
   "metadata": {},
   "outputs": [
    {
     "data": {
      "text/plain": [
       "[['politics', 80],\n",
       " ['latin', 96],\n",
       " ['dance', 97],\n",
       " ['architecture', 65],\n",
       " ['physics', 98],\n",
       " ['calculus', 97],\n",
       " ['poetry', 'Pass'],\n",
       " ['history', 88],\n",
       " ['computerscience', 100],\n",
       " ['visual arts', 98]]"
      ]
     },
     "execution_count": 24,
     "metadata": {},
     "output_type": "execute_result"
    }
   ],
   "source": [
    "last_semester_gradebook = [['politics', 80], ['latin', 96], ['dance', 97], ['architecture', 65]]\n",
    "full_gradebook = last_semester_gradebook + gradebook\n",
    "full_gradebook"
   ]
  },
  {
   "cell_type": "code",
   "execution_count": null,
   "id": "3f0ac155-04af-45ac-b813-3a26b4e28541",
   "metadata": {},
   "outputs": [],
   "source": []
  }
 ],
 "metadata": {
  "kernelspec": {
   "display_name": "Python 3 (ipykernel)",
   "language": "python",
   "name": "python3"
  },
  "language_info": {
   "codemirror_mode": {
    "name": "ipython",
    "version": 3
   },
   "file_extension": ".py",
   "mimetype": "text/x-python",
   "name": "python",
   "nbconvert_exporter": "python",
   "pygments_lexer": "ipython3",
   "version": "3.11.7"
  }
 },
 "nbformat": 4,
 "nbformat_minor": 5
}
