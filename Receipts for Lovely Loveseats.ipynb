{
 "cells": [
  {
   "cell_type": "markdown",
   "id": "d189c0a1-c4ff-4b59-8f9b-faa348db6903",
   "metadata": {},
   "source": [
    "1. lovely_loveseat_description 변수 만들고, 문자열 할당하기."
   ]
  },
  {
   "cell_type": "code",
   "execution_count": 34,
   "id": "f6de6bfb-bbd3-4328-8035-ac53f21cdcff",
   "metadata": {},
   "outputs": [],
   "source": [
    "lovely_loveseat_description = 'Lovely Loveseat. Tufted polyester blend on wood. 32 inches high x 40 inches wide x 30 inches deep. Red or white.'"
   ]
  },
  {
   "cell_type": "markdown",
   "id": "16159116-15d9-4878-9923-822f41c2e291",
   "metadata": {},
   "source": [
    "2. lovely_loveseat_price 변수 만들고, 254.00 값 설정하기."
   ]
  },
  {
   "cell_type": "code",
   "execution_count": 35,
   "id": "f68430df-5c7e-4a17-835c-927dced5a024",
   "metadata": {},
   "outputs": [],
   "source": [
    "lovely_loveseat_price = 254.00"
   ]
  },
  {
   "cell_type": "markdown",
   "id": "e619af06-492c-46bb-9fc6-e6a3e03a07d3",
   "metadata": {},
   "source": [
    "3. stylish_settee_description 변수 만들고, 문자열 할당하기."
   ]
  },
  {
   "cell_type": "code",
   "execution_count": 36,
   "id": "5a9bac37-b55a-478c-9681-79346ba815e6",
   "metadata": {},
   "outputs": [],
   "source": [
    "stylish_settee_description = 'Stylish Settee. Faux leather on birch. 29.50 inches high x 54.75 inches wide x 28 inches deep. Black.'"
   ]
  },
  {
   "cell_type": "markdown",
   "id": "7ba187c0-1fb0-41fe-8f3f-6eb015ded8d5",
   "metadata": {},
   "source": [
    "4. stylish_settee_price 변수 만들고, 180.50 값 설정하기."
   ]
  },
  {
   "cell_type": "code",
   "execution_count": 37,
   "id": "b202ffd3-ef82-4bdb-8624-f877393399ed",
   "metadata": {},
   "outputs": [],
   "source": [
    "stylish_settee_price = 180.50"
   ]
  },
  {
   "cell_type": "markdown",
   "id": "06d39687-4e4d-4afa-822a-18df3d1692e3",
   "metadata": {},
   "source": [
    "5. luxurious_lamp_description 변수 만들고, 문자열 할당하기."
   ]
  },
  {
   "cell_type": "code",
   "execution_count": 38,
   "id": "2346b5b3-e159-4c45-99c8-724cd7eb914e",
   "metadata": {},
   "outputs": [],
   "source": [
    "luxurious_lamp_description = 'Luxurious Lamp. Glass and iron. 36 inches tall. Brown with cream shade.'"
   ]
  },
  {
   "cell_type": "markdown",
   "id": "59512e69-a375-44f2-965c-a0ecba1c8fa7",
   "metadata": {},
   "source": [
    "6. luxurious_lamp_price 변수 만들고, 52.15 값 설정하기."
   ]
  },
  {
   "cell_type": "code",
   "execution_count": 39,
   "id": "97bdb50e-81e3-4ce5-a873-83d1516c8454",
   "metadata": {},
   "outputs": [],
   "source": [
    "luxurious_lamp_price = 52.15"
   ]
  },
  {
   "cell_type": "markdown",
   "id": "72d4e8d2-3d34-4a7f-a33c-6a33fb8c01ac",
   "metadata": {},
   "source": [
    "7. sales_tax 변수 설정하고, .088 값 설정하기."
   ]
  },
  {
   "cell_type": "code",
   "execution_count": 40,
   "id": "45e37bd3-7810-4402-90cb-8c12cc788774",
   "metadata": {},
   "outputs": [],
   "source": [
    "sales_tax = .088"
   ]
  },
  {
   "cell_type": "markdown",
   "id": "02612e6b-fd76-4cf1-b466-acf4ee1eddd7",
   "metadata": {},
   "source": [
    "8. customer_one_total 변수를 0으로 설정하기."
   ]
  },
  {
   "cell_type": "code",
   "execution_count": 41,
   "id": "94f1d128-1434-41cc-ac33-890207cdade1",
   "metadata": {},
   "outputs": [],
   "source": [
    "customer_one_total = 0"
   ]
  },
  {
   "cell_type": "markdown",
   "id": "99baf2f6-8f99-4fa8-a760-2299a598a835",
   "metadata": {},
   "source": [
    "9. customer_one_itemization 변수를 만들고, 빈 문자열 설정하기(고객이 구매시 설명 추가)."
   ]
  },
  {
   "cell_type": "code",
   "execution_count": 42,
   "id": "5f9f1412-e6a4-4d0a-8bc7-d81194dcd9dd",
   "metadata": {},
   "outputs": [],
   "source": [
    "customer_one_itemization = ''"
   ]
  },
  {
   "cell_type": "markdown",
   "id": "cfe25914-2ebb-4edd-8035-3dfbefde0024",
   "metadata": {},
   "source": [
    "10. customer_one_total에 Lovely Loveseat 가격 추가하기."
   ]
  },
  {
   "cell_type": "code",
   "execution_count": 43,
   "id": "9820c533-1221-49f8-b33b-60d617537696",
   "metadata": {},
   "outputs": [],
   "source": [
    "customer_one_total += lovely_loveseat_price"
   ]
  },
  {
   "cell_type": "markdown",
   "id": "d7fa6f91-e369-49cd-9180-619afe32207c",
   "metadata": {},
   "source": [
    "11. costomer_one_itemization에 Lovely Loveseat 설명 추가하기."
   ]
  },
  {
   "cell_type": "code",
   "execution_count": 44,
   "id": "b0f24339-44ab-4402-a905-c4c1a66e1212",
   "metadata": {},
   "outputs": [],
   "source": [
    "customer_one_itemization += lovely_loveseat_description"
   ]
  },
  {
   "cell_type": "markdown",
   "id": "bc95095d-8972-4396-b940-726b924da1c3",
   "metadata": {},
   "source": [
    "12. customer_one_total에 Luxurious Lamp 가격 추가하기."
   ]
  },
  {
   "cell_type": "code",
   "execution_count": 45,
   "id": "d866f337-5fbe-4a4b-955f-84e2be932f8b",
   "metadata": {},
   "outputs": [],
   "source": [
    "customer_one_total += luxurious_lamp_price"
   ]
  },
  {
   "cell_type": "markdown",
   "id": "890f7a2b-9134-426e-99c8-63bdf84ab39e",
   "metadata": {},
   "source": [
    "13. costomer_one_itenization에 Luxurious Lamp 설명 추가하기."
   ]
  },
  {
   "cell_type": "code",
   "execution_count": 46,
   "id": "a7b1c487-5b46-4549-9b81-9b3d2f36e70a",
   "metadata": {},
   "outputs": [],
   "source": [
    "customer_one_itemization += luxurious_lamp_description"
   ]
  },
  {
   "cell_type": "markdown",
   "id": "37c06ceb-246d-4f69-8627-9cc4f8438f21",
   "metadata": {},
   "source": [
    "14. customer_one_tax 변수 만들고, customer_one_total, sales_tex와 같게 설정하기."
   ]
  },
  {
   "cell_type": "code",
   "execution_count": 47,
   "id": "30f21645-8073-41ec-9e6b-3e7c0ae3918f",
   "metadata": {},
   "outputs": [],
   "source": [
    "customer_one_tax = customer_one_total*sales_tax"
   ]
  },
  {
   "cell_type": "markdown",
   "id": "cba0d915-af6d-4db5-90b7-7e3cc80bf3bf",
   "metadata": {},
   "source": [
    "15. customer_one_total에 customer_one_tax 추가하기."
   ]
  },
  {
   "cell_type": "code",
   "execution_count": 48,
   "id": "f561b730-c2ed-458d-81b6-e9c7a3dcbb35",
   "metadata": {},
   "outputs": [],
   "source": [
    "customer_one_total += customer_one_tax"
   ]
  },
  {
   "cell_type": "code",
   "execution_count": 49,
   "id": "f595c51e-8345-438e-93df-4f69a0242448",
   "metadata": {},
   "outputs": [
    {
     "name": "stdout",
     "output_type": "stream",
     "text": [
      "Customer One Items:\n",
      "Lovely Loveseat. Tufted polyester blend on wood. 32 inches high x 40 inches wide x 30 inches deep. Red or white.Luxurious Lamp. Glass and iron. 36 inches tall. Brown with cream shade.\n",
      "Customer One Total:\n",
      "333.09119999999996\n"
     ]
    }
   ],
   "source": [
    "print('Customer One Items:') # 16\n",
    "print(customer_one_itemization) # 17\n",
    "print('Customer One Total:') # 18\n",
    "print(customer_one_total) # 19"
   ]
  },
  {
   "cell_type": "code",
   "execution_count": null,
   "id": "72b52b1a-13c4-43fe-853c-9114bb0f77ed",
   "metadata": {},
   "outputs": [],
   "source": []
  }
 ],
 "metadata": {
  "kernelspec": {
   "display_name": "Python 3 (ipykernel)",
   "language": "python",
   "name": "python3"
  },
  "language_info": {
   "codemirror_mode": {
    "name": "ipython",
    "version": 3
   },
   "file_extension": ".py",
   "mimetype": "text/x-python",
   "name": "python",
   "nbconvert_exporter": "python",
   "pygments_lexer": "ipython3",
   "version": "3.11.7"
  }
 },
 "nbformat": 4,
 "nbformat_minor": 5
}
