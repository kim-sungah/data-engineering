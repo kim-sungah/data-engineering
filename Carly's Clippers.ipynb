{
 "cells": [
  {
   "cell_type": "code",
   "execution_count": 39,
   "id": "a7546854-5ab8-490c-bd03-21a789122377",
   "metadata": {},
   "outputs": [],
   "source": [
    "# the names of the cuts offered at Carly’s Clippers.\n",
    "hairstyles = ['bouffant', 'pixie', 'dreadlocks', 'crew', 'bowl', 'bob', 'mohawk', 'flattop']"
   ]
  },
  {
   "cell_type": "code",
   "execution_count": 40,
   "id": "a0b7f416-ca54-4554-81ea-5fd51c0921b3",
   "metadata": {},
   "outputs": [],
   "source": [
    "# the price of each hairstyle in the hairstyles list.\n",
    "prices = [30, 25, 40, 20, 20, 35, 50, 35]"
   ]
  },
  {
   "cell_type": "code",
   "execution_count": 41,
   "id": "2e6717f8-18c9-48db-bdfe-8fd558e846e5",
   "metadata": {},
   "outputs": [],
   "source": [
    "# the number of purchases for each hairstyle type in the last week.\n",
    "last_week = [2, 3, 5, 8, 4, 4, 6, 2]"
   ]
  },
  {
   "cell_type": "markdown",
   "id": "b1d31147-9dd2-4eb8-8475-10d4aad1b955",
   "metadata": {},
   "source": [
    "1. total_price 변수를 생성하고 기본값 0 설정하기."
   ]
  },
  {
   "cell_type": "code",
   "execution_count": 42,
   "id": "24581adc-a4ca-4468-9445-301421f1ba5b",
   "metadata": {},
   "outputs": [],
   "source": [
    "total_price = 0"
   ]
  },
  {
   "cell_type": "markdown",
   "id": "9b5e3bbb-4554-4aad-972d-b4f9de29cf76",
   "metadata": {},
   "source": [
    "2. prices 각 값을 반복해서  total_price에 추가하기."
   ]
  },
  {
   "cell_type": "code",
   "execution_count": 43,
   "id": "fb4bc778-6137-4d7c-bb1f-13ee0bd75804",
   "metadata": {},
   "outputs": [
    {
     "data": {
      "text/plain": [
       "255"
      ]
     },
     "execution_count": 43,
     "metadata": {},
     "output_type": "execute_result"
    }
   ],
   "source": [
    "for i in range(len(prices)):\n",
    "    total_price += prices[i]\n",
    "\n",
    "total_price"
   ]
  },
  {
   "cell_type": "markdown",
   "id": "85ccd9ba-9422-4822-b253-1470f346a3bd",
   "metadata": {},
   "source": [
    "3. total_price를 가격 수로 나눈 average_price 변수 생성하기."
   ]
  },
  {
   "cell_type": "code",
   "execution_count": 44,
   "id": "8256d369-0094-4ac9-bbef-84521b35efec",
   "metadata": {},
   "outputs": [],
   "source": [
    "average_price = total_price / len(prices)"
   ]
  },
  {
   "cell_type": "markdown",
   "id": "a8c5494f-01b7-45f1-9123-6e3ae9f54c5f",
   "metadata": {},
   "source": [
    "4. average_price 출력하기"
   ]
  },
  {
   "cell_type": "code",
   "execution_count": 45,
   "id": "b7bdfc22-5e1d-4840-97ff-6898a3667170",
   "metadata": {},
   "outputs": [
    {
     "name": "stdout",
     "output_type": "stream",
     "text": [
      "Average price is  31.875\n"
     ]
    }
   ],
   "source": [
    "print('Average price is ', average_price)"
   ]
  },
  {
   "cell_type": "markdown",
   "id": "8f03b19c-704a-4519-9d02-1c77862f8254",
   "metadata": {},
   "source": [
    "5. prices에서 각각 5를 뺀 new_prices 리스트 생성하기."
   ]
  },
  {
   "cell_type": "code",
   "execution_count": 46,
   "id": "d372a119-1b28-4881-9ab4-e142a829f399",
   "metadata": {},
   "outputs": [],
   "source": [
    "new_prices = []\n",
    "for i in range(len(prices)):\n",
    "    new_prices.append(prices[i] - 5)"
   ]
  },
  {
   "cell_type": "markdown",
   "id": "24e3ff86-9550-475a-b6d7-30cd2489ab75",
   "metadata": {},
   "source": [
    "6. new_prices 출력하기."
   ]
  },
  {
   "cell_type": "code",
   "execution_count": 47,
   "id": "3d051766-bcf9-47ff-848f-9bc1b69e9bad",
   "metadata": {},
   "outputs": [
    {
     "data": {
      "text/plain": [
       "[25, 20, 35, 15, 15, 30, 45, 30]"
      ]
     },
     "execution_count": 47,
     "metadata": {},
     "output_type": "execute_result"
    }
   ],
   "source": [
    "new_prices"
   ]
  },
  {
   "cell_type": "markdown",
   "id": "331ca1a4-ab3a-4748-9b5e-a30dab830fc4",
   "metadata": {},
   "source": [
    "7. total_revenue 변수 만들고 초기값 0 설정하기."
   ]
  },
  {
   "cell_type": "code",
   "execution_count": 48,
   "id": "68774cd2-6e62-4ddb-a075-6b1c11075a29",
   "metadata": {},
   "outputs": [],
   "source": [
    "total_revenue = 0"
   ]
  },
  {
   "cell_type": "markdown",
   "id": "5909003d-8d9f-470d-bc47-a8aee47e5399",
   "metadata": {},
   "source": [
    "8. for문을 사용해 0에서 len(hairstyles)까지 반복하는 변수 i 만들기.\n",
    "9. prices[i]와 last_week[i]의 곱을 total_revenue에 저장하기.\n",
    "10. total_revenue 출력하기."
   ]
  },
  {
   "cell_type": "code",
   "execution_count": 49,
   "id": "798100e5-33c7-4c06-8042-15a9aa522da8",
   "metadata": {},
   "outputs": [
    {
     "data": {
      "text/plain": [
       "1085"
      ]
     },
     "execution_count": 49,
     "metadata": {},
     "output_type": "execute_result"
    }
   ],
   "source": [
    "for i in range(0, len(hairstyles)):\n",
    "    total_revenue += prices[i]*last_week[i]\n",
    "\n",
    "total_revenue"
   ]
  },
  {
   "cell_type": "markdown",
   "id": "fb9f9763-117f-46bc-961e-2d7fe8e53225",
   "metadata": {},
   "source": [
    "11. total_revenue를 7로 나누어 평균 일일 수익(average_daily_revenue) 구하기."
   ]
  },
  {
   "cell_type": "code",
   "execution_count": 50,
   "id": "f12865d3-f5f5-46fa-9c7a-72c1a49ea1e5",
   "metadata": {},
   "outputs": [
    {
     "name": "stdout",
     "output_type": "stream",
     "text": [
      "Average daily revenue is  155.0\n"
     ]
    }
   ],
   "source": [
    "average_daily_revenue = total_revenue / 7\n",
    "print('Average daily revenue is ', average_daily_revenue)"
   ]
  },
  {
   "cell_type": "markdown",
   "id": "bef88461-a1f8-40e4-8c45-10732a91376e",
   "metadata": {},
   "source": [
    "12. hairstyles 중 new_prices가 30 미만인 헤어스타일을 cuts_under_30에 저장하기."
   ]
  },
  {
   "cell_type": "code",
   "execution_count": 51,
   "id": "aa8b4285-1582-4c9b-9ab9-c2ff989e45f9",
   "metadata": {},
   "outputs": [],
   "source": [
    "cuts_under_30 = []\n",
    "\n",
    "for i in range(0, len(new_prices)-1):\n",
    "    if new_prices[i] < 30:\n",
    "        cuts_under_30.append(hairstyles[i])"
   ]
  },
  {
   "cell_type": "markdown",
   "id": "c1027f42-2fb9-4feb-ae2f-7de378128f61",
   "metadata": {},
   "source": [
    "13. cuts_under_30 출력하기."
   ]
  },
  {
   "cell_type": "code",
   "execution_count": 52,
   "id": "fa10ab4a-f152-4922-9c04-3c336f514b26",
   "metadata": {},
   "outputs": [
    {
     "name": "stdout",
     "output_type": "stream",
     "text": [
      "['bouffant', 'pixie', 'crew', 'bowl']\n"
     ]
    }
   ],
   "source": [
    "print(cuts_under_30)"
   ]
  },
  {
   "cell_type": "code",
   "execution_count": null,
   "id": "14966223-5d98-4958-a2ff-1e36acbd34a7",
   "metadata": {},
   "outputs": [],
   "source": []
  }
 ],
 "metadata": {
  "kernelspec": {
   "display_name": "Python 3 (ipykernel)",
   "language": "python",
   "name": "python3"
  },
  "language_info": {
   "codemirror_mode": {
    "name": "ipython",
    "version": 3
   },
   "file_extension": ".py",
   "mimetype": "text/x-python",
   "name": "python",
   "nbconvert_exporter": "python",
   "pygments_lexer": "ipython3",
   "version": "3.11.7"
  }
 },
 "nbformat": 4,
 "nbformat_minor": 5
}
